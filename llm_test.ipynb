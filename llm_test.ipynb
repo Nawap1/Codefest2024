{
 "cells": [
  {
   "cell_type": "markdown",
   "metadata": {},
   "source": [
    "# Importing API Key"
   ]
  },
  {
   "cell_type": "code",
   "execution_count": 2,
   "metadata": {},
   "outputs": [],
   "source": [
    "from dotenv import load_dotenv\n",
    "import os\n",
    "load_dotenv()\n",
    "HUGGINGFACE_API_KEY = os.getenv('HUGGINGFACE_API_KEY')\n",
    "\n",
    "if not HUGGINGFACE_API_KEY:\n",
    "    raise ValueError(\"HUGGINGFACE_API_KEY not found in .env file\")"
   ]
  },
  {
   "cell_type": "code",
   "execution_count": 4,
   "metadata": {},
   "outputs": [
    {
     "name": "stderr",
     "output_type": "stream",
     "text": [
      "f:\\Programs\\anaconda3\\envs\\torchdl\\lib\\site-packages\\tqdm\\auto.py:21: TqdmWarning: IProgress not found. Please update jupyter and ipywidgets. See https://ipywidgets.readthedocs.io/en/stable/user_install.html\n",
      "  from .autonotebook import tqdm as notebook_tqdm\n"
     ]
    },
    {
     "name": "stdout",
     "output_type": "stream",
     "text": [
      "ChatCompletionOutputMessage(role='assistant', content='Certainly! Here’s a short story for you:\\n\\n### The Lighthouse Keeper and the Lost Sailor\\n\\nIn a small coastal village, there lived an old lighthouse keeper named Thomas. Every night, he would climb the winding stairs of the lighthouse to light the beacon, ensuring that the ships passing by would safely navigate the treacherous waters. Thomas had been the keeper for over 40 years, and he took his job very seriously. The lighthouse was his life, and he knew every inch of it.\\n\\nOne stormy night, as the wind howled and the rain lashed against the lighthouse, Thomas noticed something unusual. A small boat was struggling against the waves, its lights flickering weakly. Thomas immediately knew that the boat was in grave danger. He quickly lit the beacon and increased its intensity, hoping to guide the boat to safety.\\n\\nFor what felt like hours, Thomas watched the boat as it battled the storm. Just when he thought all hope was lost, the boat managed to find a small cove near the village. Thomas rushed down to the shore, his heart pounding with worry.\\n\\nWhen he arrived, he found a young sailor, drenched and exhausted, lying on the sand. The sailor, whose name was Alex, was barely conscious. Thomas helped him to his feet and led him to a nearby cottage where he could rest and warm up.\\n\\nOver the next few days, Thomas cared for Alex, providing him with food, shelter, and a listening ear. Alex told Thomas about his journey, how he had set out to explore the coast but had been caught in the storm. He was grateful to Thomas for saving his life.\\n\\nAs Alex recovered, he and Thomas formed a strong bond. Thomas shared stories of his life as a lighthouse keeper, and Alex spoke of his dreams of adventure. Thomas realized that despite their different paths, they both shared a deep connection to the sea.\\n\\nWhen the storm finally cleared, Alex was ready to continue his journey. Before he left, he turned to Thomas and said, \"Thank you for everything. You not only saved my life, but you also showed me the true meaning of kindness and duty.\"\\n\\nThomas smiled, feeling a sense of fulfillment he hadn\\'t felt in years. \"It was my duty, but it was also my pleasure,\" he replied. \"Safe travels, Alex. May the sea always guide you home.\"\\n\\nAs Alex sailed away, Thomas watched from the lighthouse, his heart filled with a sense of purpose and a renewed love for his role as the keeper of the light. He knew that no matter what the future held, he would always be there to guide those in need.\\n\\nAnd so, the lighthouse continued to shine, a beacon of hope and safety for all who sailed the coastal waters.', tool_calls=None)\n"
     ]
    }
   ],
   "source": [
    "from huggingface_hub import InferenceClient\n",
    "\n",
    "client = InferenceClient(api_key=HUGGINGFACE_API_KEY)\n",
    "messages = [\n",
    "\t{ \"role\": \"user\", \"content\": \"Tell me a story\" }\n",
    "]\n",
    "\n",
    "completion = client.chat.completions.create(\n",
    "    model=\"Qwen/Qwen2.5-72B-Instruct\", \n",
    "\tmessages=messages, \n",
    "\ttemperature=0.5,\n",
    "\tmax_tokens=2048,\n",
    "\ttop_p=0.7\n",
    ")\n",
    "\n",
    "print(completion.choices[0].message)"
   ]
  },
  {
   "cell_type": "code",
   "execution_count": 5,
   "metadata": {},
   "outputs": [
    {
     "data": {
      "text/plain": [
       "'Certainly! Here’s a short story for you:\\n\\n### The Lighthouse Keeper and the Lost Sailor\\n\\nIn a small coastal village, there lived an old lighthouse keeper named Thomas. Every night, he would climb the winding stairs of the lighthouse to light the beacon, ensuring that the ships passing by would safely navigate the treacherous waters. Thomas had been the keeper for over 40 years, and he took his job very seriously. The lighthouse was his life, and he knew every inch of it.\\n\\nOne stormy night, as the wind howled and the rain lashed against the lighthouse, Thomas noticed something unusual. A small boat was struggling against the waves, its lights flickering weakly. Thomas immediately knew that the boat was in grave danger. He quickly lit the beacon and increased its intensity, hoping to guide the boat to safety.\\n\\nFor what felt like hours, Thomas watched the boat as it battled the storm. Just when he thought all hope was lost, the boat managed to find a small cove near the village. Thomas rushed down to the shore, his heart pounding with worry.\\n\\nWhen he arrived, he found a young sailor, drenched and exhausted, lying on the sand. The sailor, whose name was Alex, was barely conscious. Thomas helped him to his feet and led him to a nearby cottage where he could rest and warm up.\\n\\nOver the next few days, Thomas cared for Alex, providing him with food, shelter, and a listening ear. Alex told Thomas about his journey, how he had set out to explore the coast but had been caught in the storm. He was grateful to Thomas for saving his life.\\n\\nAs Alex recovered, he and Thomas formed a strong bond. Thomas shared stories of his life as a lighthouse keeper, and Alex spoke of his dreams of adventure. Thomas realized that despite their different paths, they both shared a deep connection to the sea.\\n\\nWhen the storm finally cleared, Alex was ready to continue his journey. Before he left, he turned to Thomas and said, \"Thank you for everything. You not only saved my life, but you also showed me the true meaning of kindness and duty.\"\\n\\nThomas smiled, feeling a sense of fulfillment he hadn\\'t felt in years. \"It was my duty, but it was also my pleasure,\" he replied. \"Safe travels, Alex. May the sea always guide you home.\"\\n\\nAs Alex sailed away, Thomas watched from the lighthouse, his heart filled with a sense of purpose and a renewed love for his role as the keeper of the light. He knew that no matter what the future held, he would always be there to guide those in need.\\n\\nAnd so, the lighthouse continued to shine, a beacon of hope and safety for all who sailed the coastal waters.'"
      ]
     },
     "execution_count": 5,
     "metadata": {},
     "output_type": "execute_result"
    }
   ],
   "source": [
    "completion.choices[0].message['content']"
   ]
  },
  {
   "cell_type": "markdown",
   "metadata": {},
   "source": [
    "# Creating a Pipeline For Chatbot"
   ]
  },
  {
   "cell_type": "code",
   "execution_count": 9,
   "metadata": {},
   "outputs": [],
   "source": [
    "from typing import List, Dict\n",
    "class ChatBot:\n",
    "    def __init__(self, api_token: str):\n",
    "        self.client = InferenceClient(api_key=api_token)\n",
    "        self.model = \"Qwen/Qwen2.5-72B-Instruct\"\n",
    "\n",
    "    def generate_response(self, context: str, chat_history: List[Dict[str, str]]) -> str:\n",
    "        \"\"\"Generate response using context and chat history\"\"\"\n",
    "        \n",
    "        system_msg = \"You are a helpful AI assistant that provides clear and concise information based on the given context and chat history.\"\n",
    "        \n",
    "        formatted_history = []\n",
    "        for msg in chat_history:\n",
    "            formatted_history.append({\"role\": msg[\"role\"], \"content\": msg[\"content\"]})\n",
    "            \n",
    "        messages = [\n",
    "            {\"role\": \"system\", \"content\": system_msg},\n",
    "            {\"role\": \"user\", \"content\": f\"Context: {context}\"},\n",
    "        ]\n",
    "        messages.extend(formatted_history)\n",
    "        print(messages)\n",
    "        response = self.client.chat.completions.create(\n",
    "            model=self.model,\n",
    "            messages=messages,\n",
    "            temperature=0.7,\n",
    "            max_tokens=1024,\n",
    "            top_p=0.9\n",
    "        )\n",
    "        \n",
    "        return response.choices[0].message.content"
   ]
  },
  {
   "cell_type": "code",
   "execution_count": null,
   "metadata": {},
   "outputs": [],
   "source": []
  }
 ],
 "metadata": {
  "kernelspec": {
   "display_name": "torchdl",
   "language": "python",
   "name": "python3"
  },
  "language_info": {
   "codemirror_mode": {
    "name": "ipython",
    "version": 3
   },
   "file_extension": ".py",
   "mimetype": "text/x-python",
   "name": "python",
   "nbconvert_exporter": "python",
   "pygments_lexer": "ipython3",
   "version": "3.10.14"
  }
 },
 "nbformat": 4,
 "nbformat_minor": 2
}
