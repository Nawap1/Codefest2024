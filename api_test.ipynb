{
 "cells": [
  {
   "cell_type": "code",
   "execution_count": 18,
   "metadata": {},
   "outputs": [
    {
     "name": "stdout",
     "output_type": "stream",
     "text": [
      "\n",
      "Testing /extract-text/\n",
      "Status: 400\n",
      "Response: {'detail': \"1 validation error for TextExtractionResponse\\ntext\\n  Input should be a valid string [type=string_type, input_value={'content': 'Sample text ...e': 19}, 'type': 'text'}, input_type=dict]\\n    For further information visit https://errors.pydantic.dev/2.9/v/string_type\"}\n",
      "\n",
      "Testing /vectorize\n",
      "Status: 200\n",
      "Response: {'message': 'Text vectorized successfully'}\n",
      "\n",
      "Testing /generate_notes\n",
      "Status: 400\n",
      "Response: {'detail': \"429, message='Too Many Requests', url='https://api-inference.huggingface.co/models/Qwen/Qwen2.5-72B-Instruct/v1/chat/completions'\"}\n",
      "\n",
      "Testing /flashcards\n",
      "Status: 422\n",
      "Response: {'detail': [{'type': 'missing', 'loc': ['query', 'content'], 'msg': 'Field required', 'input': None}]}\n",
      "\n",
      "Testing /quiz\n",
      "Status: 422\n",
      "Response: {'detail': [{'type': 'missing', 'loc': ['query', 'content'], 'msg': 'Field required', 'input': None}]}\n"
     ]
    }
   ],
   "source": [
    "import requests\n",
    "import json\n",
    "\n",
    "BASE_URL = \"http://localhost:8000\"\n",
    "\n",
    "def test_all():\n",
    "    # Test extract-text\n",
    "    files = {\n",
    "        'file': ('test.txt', b'Sample text content', 'text/plain')\n",
    "    }\n",
    "    print(\"\\nTesting /extract-text/\")\n",
    "    response = requests.post(f\"{BASE_URL}/extract-text/\", files=files)\n",
    "    print(f\"Status: {response.status_code}\")\n",
    "    print(f\"Response: {response.json()}\")\n",
    "\n",
    "    # Test vectorize\n",
    "    print(\"\\nTesting /vectorize\")\n",
    "    response = requests.post(\n",
    "        f\"{BASE_URL}/vectorize\",\n",
    "        json={\"text\": \"Sample text for vectorization\"}\n",
    "    )\n",
    "    print(f\"Status: {response.status_code}\")\n",
    "    print(f\"Response: {response.json()}\")\n",
    "\n",
    "    # Test generate_notes\n",
    "    print(\"\\nTesting /generate_notes\")\n",
    "    response = requests.post(\n",
    "        f\"{BASE_URL}/generate_notes\",\n",
    "        json={\"context\": \"Python is a programming language\"}\n",
    "    )\n",
    "    print(f\"Status: {response.status_code}\")\n",
    "    print(f\"Response: {response.json()}\")\n",
    "\n",
    "    # Test flashcards\n",
    "    print(\"\\nTesting /flashcards\")\n",
    "    response = requests.get(\n",
    "        f\"{BASE_URL}/flashcards\",\n",
    "        params={\"content\": \"Python is a programming language\", \"count\": 2}\n",
    "    )\n",
    "    print(f\"Status: {response.status_code}\")\n",
    "    print(f\"Response: {response.json()}\")\n",
    "\n",
    "    # Test quiz\n",
    "    print(\"\\nTesting /quiz\")\n",
    "    response = requests.get(\n",
    "        f\"{BASE_URL}/quiz\",\n",
    "        params={\"content\": \"Python is a programming language\", \"num_questions\": 2}\n",
    "    )\n",
    "    print(f\"Status: {response.status_code}\")\n",
    "    print(f\"Response: {response.json()}\")\n",
    "\n",
    "if __name__ == \"__main__\":\n",
    "    test_all()"
   ]
  },
  {
   "cell_type": "code",
   "execution_count": null,
   "metadata": {},
   "outputs": [],
   "source": []
  },
  {
   "cell_type": "code",
   "execution_count": 6,
   "metadata": {},
   "outputs": [
    {
     "name": "stdout",
     "output_type": "stream",
     "text": [
      "{'detail': [{'type': 'missing', 'loc': ['query', 'text'], 'msg': 'Field required', 'input': None}]}\n"
     ]
    }
   ],
   "source": [
    "import requests\n",
    "\n",
    "# Define the text to be vectorized\n",
    "text = \"\"\"\n",
    "Introduction:\n",
    "This is a sample document created for testing the file reading function. It contains various sections and some sample content to ensure that the function works as expected.\n",
    "\n",
    "Section 1: Overview\n",
    "- This section provides a brief overview of the document.\n",
    "- It explains the purpose of the document and what it aims to achieve.\n",
    "\n",
    "Section 2: Features\n",
    "- Feature 1: Reading text files.\n",
    "- Feature 2: Reading PDF files.\n",
    "- Feature 3: Reading PowerPoint files.\n",
    "\"\"\"\n",
    "\n",
    "# Send a POST request to the /vectorize endpoint\n",
    "response = requests.post(\n",
    "    \"http://127.0.0.1:8000/vectorize\",\n",
    "    json={\"text\": text}\n",
    ")\n",
    "\n",
    "# Print the response\n",
    "print(response.json())"
   ]
  },
  {
   "cell_type": "code",
   "execution_count": 7,
   "metadata": {},
   "outputs": [
    {
     "name": "stdout",
     "output_type": "stream",
     "text": [
      "200\n",
      "{'message': 'Text vectorized successfully'}\n"
     ]
    }
   ],
   "source": [
    "url = \"http://localhost:8000/vectorize\"\n",
    "payload = {\n",
    "    \"text\": \"Sample text to vectorize\"\n",
    "}\n",
    "response = requests.post(url, json=payload)\n",
    "print(response.status_code)\n",
    "print(response.json())"
   ]
  },
  {
   "cell_type": "code",
   "execution_count": null,
   "metadata": {},
   "outputs": [],
   "source": []
  }
 ],
 "metadata": {
  "kernelspec": {
   "display_name": "torchdl",
   "language": "python",
   "name": "python3"
  },
  "language_info": {
   "codemirror_mode": {
    "name": "ipython",
    "version": 3
   },
   "file_extension": ".py",
   "mimetype": "text/x-python",
   "name": "python",
   "nbconvert_exporter": "python",
   "pygments_lexer": "ipython3",
   "version": "3.10.14"
  }
 },
 "nbformat": 4,
 "nbformat_minor": 2
}
