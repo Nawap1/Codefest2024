{
 "cells": [
  {
   "cell_type": "markdown",
   "metadata": {},
   "source": [
    "# Initializing Database"
   ]
  },
  {
   "cell_type": "code",
   "execution_count": 1,
   "metadata": {},
   "outputs": [
    {
     "data": {
      "text/plain": [
       "True"
      ]
     },
     "execution_count": 1,
     "metadata": {},
     "output_type": "execute_result"
    }
   ],
   "source": [
    "import redis\n",
    "r = redis.Redis(host = \"localhost\",port=6379,db=0,)\n",
    "r.ping()"
   ]
  },
  {
   "cell_type": "code",
   "execution_count": 5,
   "metadata": {},
   "outputs": [],
   "source": [
    "for key in r.scan_iter():\n",
    "    print(key)"
   ]
  },
  {
   "cell_type": "markdown",
   "metadata": {},
   "source": [
    "# Splitting"
   ]
  },
  {
   "cell_type": "code",
   "execution_count": 7,
   "metadata": {},
   "outputs": [
    {
     "name": "stdout",
     "output_type": "stream",
     "text": [
      "Using device: cuda\n",
      "Done preprocessing. Created 8 chunks of the original pdf samples/soil.pdf\n"
     ]
    }
   ],
   "source": [
    "from langchain.text_splitter import RecursiveCharacterTextSplitter\n",
    "from langchain_community.document_loaders import PyPDFLoader\n",
    "from pipeline import DocumentExtractor\n",
    "\n",
    "extractor = DocumentExtractor()\n",
    "\n",
    "text_splitter = RecursiveCharacterTextSplitter(\n",
    "    chunk_size=2500, chunk_overlap=200\n",
    ")\n",
    "loader = extractor.extract_content(\"docs/soil.pdf\")\n",
    "chunks = text_splitter.create_documents([loader[\"content\"]])\n",
    "print(\"Done preprocessing. Created\", len(chunks), \"chunks of the original pdf\", 'samples/soil.pdf')"
   ]
  },
  {
   "cell_type": "code",
   "execution_count": 8,
   "metadata": {},
   "outputs": [
    {
     "data": {
      "text/plain": [
       "{'content': 'Soil Mechanics Lectures\\nch-1\\nAsst. Prof. Rakshak Dhungel, nec\\n\\nEvaluation\\nTheory\\nPractical\\nTotal\\nSessional\\n30\\n20\\n50\\nFinal\\n50\\n-\\n50\\nTotal\\n80\\n20\\n100\\n\\nInternal Marks Distribution\\n• Attendance\\n• Tutorials\\n• Lab report preparation\\n• MCQ and Viva                        \\n \\n    \\n• UT and Assessment Exam           \\n\\nText books\\n\\nTextbooks\\n\\nSyllabus\\n• Chapter 1 – Introduction\\n• Chapter 2 – Phase relationship and Index        \\n   \\n     properties of soils\\n• Chapter 3 – Soil Identification and classification\\n• Chapter 4 – Introduction to clay minerals\\n• Chapter 5 – Compaction of soil\\n• Chapter 6 – Effective stress, capillarity and \\n \\n \\n     permeability\\n• Chapter 7 – Seepage analysis through soil\\n\\nSyllabus\\n• Chapter 8 – Vertical stress below applied load\\n• Chapter 9 – Compressibility and consolidation   \\n      of soil\\n• Chapter 10 – Shear strength of soil\\n• Chapter 11 – Stability of slopes\\n\\nPracticals\\n• Particle size distribution test (Sieve Analysis)\\n• Determination of specific gravity of soil by \\npycnometer method.\\n• Determination of Atterberg’s limit of soil\\n    (LL, PL, SL)\\n• Determination of OMC and maximum dry density\\n• Determination of in-situ density by Core cutter \\nmethod and Sand replacement method.\\n• Permeability test\\n• Direct Shear test\\n• One dimensional consolidation test\\n\\nSoil and Rock\\n• The term derived from the Latin word \\n‘Solium’. Solium means upper layer of earth \\ncrust that may be dug or ploughed.\\n• A natural aggregate of mineral particles \\nbonded by strong cohesive force is called \\nrock.\\n\\n• Soil has different interpretation for intellectual \\nbelonging to different disciplines.\\n• The definition given to soil by an agriculturist or \\ngeologist is different from one used by civil \\nengineers.\\n• Agriculturist mean soil as the top layer of earth \\nwhich supports plant life.\\n• Geologist mean soil as thin outer layer of loose \\nsediments in the crust within which roots occur \\nand rest of the crust is grouped under the term \\nrock.\\n\\n• To the civil engineers, soil is any un-cemented or \\nweakly cemented accumulation of solid grain \\nparticles, the void space between the particles \\ncontaining water and/or air.\\n\\uf0d8grains(mineral grains, rock fragments etc)\\n\\uf0d8Void space(water and air)\\n\\uf0d8The void spaces are changed by changes in field \\ncondition.\\nFig: Soil grain structure\\n\\uf0d8Engineers assess soil properties, such as its \\nbearing \\ncapacity, \\ncompaction \\ncharacteristics, \\npermeability, \\nand \\nsettlement \\npotential, \\nto \\ndesign \\nand \\nconstruct structures like buildings, roads, \\nbridges, and dams that are safe and stable \\non the soil beneath them.\\n\\n• Soil consists of a multiphase aggregation of solid \\nparticles, water, and air. \\n• This fundamental composition gives rise to unique \\nengineering properties.\\n• The \\ndescription \\nof \\nits \\nmechanical \\nbehaviour(strength, permeability, seepage etc.) \\nrequires some of the most classic principles of \\nengineering mechanics.\\n• Soil Mechanics is a discipline of civil engineering \\ninvolving \\nthe \\nstudy \\nof \\nsoil \\n(identification, \\nbehaviour and properties) and application as an \\nengineering material.\\n\\n• The scientific study of soil mechanics was first \\nstarted by Karl Terzaghi and hence he is known as \\nfather of soil mechanics.\\n• Soil Mechanics is the application of laws of \\nhydraulics and mechanics to engineering problem \\ndealing with soil particles.\\n• The fundamental principles of soil mechanics is \\ndivided into two parts:-\\n\\uf0d8A description of soil properties.\\n\\uf0d8The application of these properties to solution of \\nsoil engineering problems related to seepage, \\ncompaction, consolidation, bearing capacity etc.\\n\\n\\uf071Soil Behaviour is Complex\\n\\uf0d8Foundation soil has to be accepted as it is at the site\\n\\uf0d8Soil is not coherent material but particulate material\\n\\uf0d8Anisotropic\\n\\uf0d8Non-Homogeneous\\n\\uf0d8Non-Linear\\n\\uf0d8Stress history dependant\\n\\uf071Complexity gives rise to importance of\\n\\uf0d8Theory\\n\\uf0d8Lab Tests\\n\\uf0d8Field Tests\\n\\uf0d8Empirical Relations\\n\\uf0d8Computer applications\\n\\uf0d8Experience, Judgement, FOS\\nSoil Mechanics Review\\n\\n• Soil mechanics equips engineers with scientific tools to \\nunderstand behaviour of soil i.e. response of soils to \\nloads.\\n• A good understanding of soil behaviour is necessary to \\nanalyse and design support system for roads, bridges, \\nbuildings, reservoirs, water distribution system, hydro \\nelectric power stations, nuclear plants etc.\\n• The stability and life of these structures depend on \\nstability, strength and deformation of soils.\\n• If soil fails the structure founded on or within it will fail \\nregardless of how well these system are designed.\\n• Thus successful civil engineering projects are heavily \\ndependant on understanding of soil behaviour.\\nSoil Mechanics Review\\n\\nSOIL PROBLEMS IN CIVIL ENGINEERING\\nTo a civil Engineer soil is a material that can be:\\nbuilt on: foundations to buildings, bridges. \\nbuilt in: tunnels, cross drainage structure, basements. \\nbuilt with: roads, runways, embankments, dams. \\nsupported: retaining walls \\n\\uf0d8A civil engineer has to deal with soil in diverse roles. An engineer while constructing \\nvarious structures must face a number of soil related problems.\\n\\uf0d8The stability of various construction is affected by engineering properties and \\ncharacteristics of soil. \\n\\uf0d8It is necessary to study behavior of the soil and its interactions with the structure to \\nensure its stability. \\n\\nImportance of Soil Mechanics\\n1. Foundations\\n• All foundations for any structure that a civil \\nengineer constructs are bound to rest on the \\nsoil. \\n• The bigger the building or structure, the \\nbigger its foundation \\n• Consequently the more important it is for a \\ncivil engineer to take into consideration the \\nsoil mechanics of the site. \\n\\n• Hard soil with sufficient strength allows an engineer \\nto use shallow foundations, and the weak soil will \\nneed deep foundations to provide robust support for \\nthe structure being constructed.\\n• The choice of foundation is dependent at the depth \\nat which suitable stratum is found.\\nShallow Foundation\\nDeep Foundation\\n\\n2. Earthen Dams\\n• Dam construction provide water for domestic use \\nall year round, support irrigation and also used for \\nhydroelectric power generation.\\n• A proper design is necessary to ensure that they can \\nwithstand the pressure from water and other \\nelements in order to serve their purpose for a long \\ntime without any incidents. \\n• Understanding soil mechanics will ensure that any \\ncivil engineer carrying out such a project takes into \\nconsideration soil properties such as its density, \\npermeability, \\nparticle \\nsize \\ndistribution, \\nconsolidation and compaction characteristics, and \\nshear strength parameter under to come up with a \\nsolid structure. \\n\\n3. Embankments and Excavations\\n• Embankment refers to piling and excavation refers to \\nremoval of huge masses of soil.\\n• Embankments are usually constructed to raise the level \\nof a road, railway or land above ground level or flooding \\nlevel. \\n• Excavation is carried when it is required to construct \\nfoundation, construct basement, construct roads, \\nconstruct canals, lay drainage pipes, construct trench to \\nstudy soil profile, construct borrow pit and to extract \\nresources like oil, coal etc.\\n• Being aware and able to factor things such as slope \\nstability, compaction of soil as well as aspects such as \\neffects of soil seepage, design of support system like \\nbracing system, sheet pile etc. all contribute to stability \\nof embankment and excavation slopes.\\n\\nEmbankment\\nExcavation\\nExcavation for trench\\n\\n4. Retaining structure and Underground structures\\n\\uf0d8Retaining Structure\\n• The role of retaining structure is to retain the soil and \\nprevent it from spreading laterally.\\n• They are commonly used to accommodate changes in \\ngrade, provide increase in right-of-way and buttress the \\ntoe of slopes.\\n• The various types of retaining walls constructed are \\nGravity retaining walls, Cantilever retaining walls, Gabion \\nretaining walls etc.\\n•  The retaining walls, whether made of compacted soil or \\nconcrete, should also be designed accordingly having \\ntaken into consideration the soil mechanics that will be at \\nplay depending on the given surroundings soil type.\\n\\n• The retaining wall should be capable of supporting both the \\nweight of the wall and the force resulting from the earth \\npressure acting upon it without: - \\n\\uf0fcOverturning and \\n\\uf0fcBearing capacity failure \\n\\uf0fcSliding of the wall   \\n\\uf0fcUndue settlement\\n• The reasons for failures might be due to saturated backfill \\nand improper drainage behind the wall (lack of weep holes \\nor clogged holes), foundation problems, settlement or \\nexpansion of the soil, overloading of the wall, construction \\nerrors, lack of passive support, and/or other design errors.\\n\\n\\uf0d8Underground structures\\n• Tunnels, shafts and conduits require evaluation of forces \\nexerted by the soil on these structures.\\n• Today, most urban centres usually construct their infrastructure \\nsuch as gas lines, electricity lines, drainage structures, subways \\nand internet distribution cables underground. \\n• For large urban areas and cities, this can mean digging and \\ntunnelling through miles and miles of heterogeneous soil to be \\nable to reach the millions of houses that make up the city. \\n• The need to understand soil mechanics in such civil engineering \\nworks is more pronounced for these underground projects. \\n• Being able to predict how the soil will behave and affect an \\nunderground pipeline or a subway is important so that the \\ncompleted project can withstand the conditions underground \\nand serve its purpose. \\n\\nFormation of soil\\n• Engineering properties of soils is influenced by how soil is \\nformed.\\n• Knowledge \\nof \\nsoil \\nforming \\nprocess \\ngreatly \\nfacilitate \\nclassification of soil\\n• Exposed rocks are eroded and degraded by various physical and \\nchemical processes like mechanical disintegration, chemical \\ndecomposition or biological weathering.\\n• The products of erosion are picked up and transported to some \\nother place by wind, water etc.\\n• The transported soil are deposited under suitable condition.\\n• Physical and chemical weathering gives two weathering \\nproducts \\n\\uf0d8Mobile ones which are transported over varying distances \\nunder the action of gravity, wind, erosion by water \\n\\uf0d8Residual products that remain on the site of destruction of the \\nparents rocks. \\n\\nFormation of soil\\nA. Physical Weathering\\n• It is natural process of disintegration of rocks into smaller \\nfragments and particles without including any chemical \\nchange in the end product. \\n• Physical weathering is a process of fragmentation of rock \\ndue to some physical forces associated with the factors like \\nfluctuations in temperature, change in the pressure, \\ngrowth of crystals, freezing of water, frost action etc. \\n• The main agents involved are wind, running water and \\nglacier.\\n• The products formed are mainly coarse soils.\\n\\nFormation of soil\\nFactors contributing to Physical weathering \\n• The periodic contraction and expansion of rock \\ndue to variation in temperature, results flaking off \\nof the upper layer of rock causing exfoliations of \\nthe rock \\n• Alternation of light and dark minerals, variation in \\nexpansion leads to development of cracks. \\n• Freezing and thawing of water \\n• Roots of plants \\n• Movement of capillary water \\n• Crystallizations of minerals \\n\\nFormation of soil\\nB. Chemical Weathering\\n• It is the process of alteration of rocks of the earth’s crust by \\nchemical decomposition of rocks \\n• It is due to the effect of : carbonation and dissolution, \\nhydrolysis, oxidation, and hydration. \\n• The end product invariably has a different chemical \\ncomposition and poorer physical constitution as compared to \\nthe parent rock. \\n• It has been observed that water play as an important role in \\nchemical weathering as water can dissolve many active gases \\nfrom the atmosphere such as carbon dioxide, nitrogen, \\nhydrogen etc. \\n• The results of chemical weathering are generally fine soils \\nwith altered mineral grains. \\n\\n\\uf071Carbonation and Dissolution\\n• As rain goes through the air and into the \\nground, it grabs carbon dioxide, creating \\ncarbonic acid. \\n• This weak acid reacts with the calcium \\ncarbonate in rocks and dissolves it when it \\nseeps into the cracks. \\n• CO2 + H2O = H2CO3 \\n• CaCO3 + H2CO3 = 2HCO3\\n- + 2Ca2\\n+ \\n\\n\\uf071Hydrolysis\\n• The term hydrolysis combines the prefix hydro, referring \\nto water, with lysis, which is derived from a Greek word \\nmeaning to loosen or dissolve. \\n• Hydrolysis is a chemical reaction where water loosens the \\nchemical bonds within a mineral and produce new \\ncompounds which tend to be softer and weaker than the \\noriginal parent rock material. \\n• This might sound the same as dissolution but the \\ndifference is that hydrolysis produces a different mineral \\nin addition to ions. \\n• An example of hydrolysis is when water reacts with \\npotassium feldspar to produce clay minerals and ions. \\n2KAlSi3O8 + 3H2O = Al2Si2O5(OH)4 + 4Si02 + 2K+ + 2OH-\\n\\n\\uf071Oxidation\\n• Oxidation is another kind of chemical weathering \\nthat occurs when oxygen combines with another \\nsubstance and creates compounds called oxides.\\n• When rocks, particularly those with iron in them, \\nare exposed to air and water, the iron undergoes \\noxidation, which can weaken the rocks and make \\nthem crumble.\\n• Addition of oxygen results in less stable crystal \\nand \\nthus subjected \\nto \\ndisintegration and \\ndecomposition.\\n\\n\\uf071Hydration\\n• Hydration is a type of chemical weathering \\nwhere water reacts chemically with the rock, \\nmodifying its chemical structure. \\n• A consequence of hydration is that the resulting \\nmineral has a greater volume than the original \\nmineral. \\n• The increase in volume creates stress thus \\napplying force to an overlying layer/underlying \\nlayer and breaking it into pieces. \\n\\nFormation of soil\\nC. Biological Weathering\\n• It is the disintegration or decay of rocks and \\nminerals caused by chemical or physical agents of \\norganisms. \\n• Examples: organic activity from lichen and algae, \\nrock disintegration by plant or root growth, \\nburrowing and tunnelling organisms, and acid \\nsecretion. \\n• Organic soil is formed as a result of biological \\nweathering which is highly compressible and is \\nunsuitable for foundation material.\\n\\n• The soil is called Transported soil if the \\nproducts of rock weathering are transported \\nfrom the place where they originated and re-\\ndeposited to any other place. \\n• The soil is called Residual soil if the products \\nof rock weathering are still located at the \\nplace where they originated.\\nTypes of Soils on basis of origin\\nTypes of Soils on basis of size\\n• Coarse grained soil (> 0.075 mm)\\n• Fine grained soil (< 0.075 mm)\\n\\nTypes of transported soils\\n• Glacial soils: \\n \\nFormed by transportation and deposition of glaciers.\\n• Alluvial soils: \\n \\nTransported by running water and deposited along streams.\\n• Lacustrine soils: \\n \\nFormed by deposition in quiet lakes \\n•  Marine soils: \\n \\nFormed by deposition in the seas \\n• Aeolian soils: \\n \\nTransported and deposited by the wind\\n• Colluvial soils: \\n \\nFormed by movement of soil from its original place by gravity,    \\nsuch as during landslide \\n\\nResidual Soil Vs Transported Soil\\nResidual Soil\\nTransported Soil\\nThese soils are found at the same location \\nwhere they have originated\\nThe rock materials are weathered and \\nthen they are moved from their original \\nlocation to a new place by one or more \\nerosion agents to form transported soils\\nThe parent material is the original \\nbedrock\\nThe parent material is different from the \\nunderlying bedrock\\nThe soil has the minerals similar to those \\nin the bed rock\\nThe soil will have a mineral composition \\ndifferent from that of the bedrock\\n\\nRock Cycle\\n\\n• Exposed rocks eroded and degraded by various \\nphysical and chemical process.\\n• Product of erosion picked up by various agencies of \\ntransportation like wind, water\\n• The erosion products are carried out to new \\nlocations where they get deposited.\\n• This shifting of material causes upheavals at the \\ndeposited location after some time.\\n• The cycle is repeated again\\nSoil Formation cycle\\n',\n",
       " 'metadata': {'pages': 38},\n",
       " 'type': 'pdf'}"
      ]
     },
     "execution_count": 8,
     "metadata": {},
     "output_type": "execute_result"
    }
   ],
   "source": [
    "loader"
   ]
  },
  {
   "cell_type": "markdown",
   "metadata": {},
   "source": [
    "# Embedding Using all-MiniLM-L6-v2"
   ]
  },
  {
   "cell_type": "code",
   "execution_count": 9,
   "metadata": {},
   "outputs": [
    {
     "data": {
      "text/plain": [
       "True"
      ]
     },
     "execution_count": 9,
     "metadata": {},
     "output_type": "execute_result"
    }
   ],
   "source": [
    "from redisvl.utils.vectorize import HFTextVectorizer\n",
    "import pandas as pd\n",
    "from tqdm.auto import tqdm\n",
    "import os\n",
    "\n",
    "hf = HFTextVectorizer(\"sentence-transformers/all-MiniLM-L6-v2\")\n",
    "os.environ[\"TOKENIZERS_PARALLELISM\"] = \"false\"\n",
    "\n",
    "# Embed each chunk content\n",
    "embeddings = hf.embed_many([chunk.page_content for chunk in chunks])\n",
    "\n",
    "# Check to make sure we've created enough embeddings, 1 per document chunk\n",
    "len(embeddings) == len(chunks)"
   ]
  },
  {
   "cell_type": "code",
   "execution_count": 10,
   "metadata": {},
   "outputs": [],
   "source": [
    "from redis import Redis\n",
    "from redisvl.index import SearchIndex\n",
    "\n",
    "index_name = \"redisvl\"\n",
    "\n",
    "schema = {\n",
    "  \"index\": {\n",
    "    \"name\": index_name,\n",
    "    \"prefix\": \"chunk\"\n",
    "  },\n",
    "  \"fields\": [\n",
    "    {\n",
    "        \"name\": \"chunk_id\",\n",
    "        \"type\": \"tag\",\n",
    "        \"attrs\": {\n",
    "            \"sortable\": True\n",
    "        }\n",
    "    },\n",
    "    {\n",
    "        \"name\": \"content\",\n",
    "        \"type\": \"text\"\n",
    "    },\n",
    "    {\n",
    "        \"name\": \"text_embedding\",\n",
    "        \"type\": \"vector\",\n",
    "        \"attrs\": {\n",
    "            \"dims\": 384,\n",
    "            \"distance_metric\": \"cosine\",\n",
    "            \"algorithm\": \"hnsw\",\n",
    "            \"datatype\": \"float32\"\n",
    "        }\n",
    "    }\n",
    "  ]\n",
    "}"
   ]
  },
  {
   "cell_type": "code",
   "execution_count": 11,
   "metadata": {},
   "outputs": [
    {
     "name": "stdout",
     "output_type": "stream",
     "text": [
      "\u001b[32m19:19:25\u001b[0m \u001b[34mredisvl.index.index\u001b[0m \u001b[1;30mINFO\u001b[0m   Index already exists, overwriting.\n"
     ]
    }
   ],
   "source": [
    "# create an index from schema and the client\n",
    "index = SearchIndex.from_dict(schema)\n",
    "index.set_client(r)\n",
    "index.create(overwrite=True, drop=True)"
   ]
  },
  {
   "cell_type": "code",
   "execution_count": 12,
   "metadata": {},
   "outputs": [],
   "source": [
    "# load expects an iterable of dictionaries\n",
    "from redisvl.redis.utils import array_to_buffer\n",
    "\n",
    "data = [\n",
    "    {\n",
    "        'chunk_id': i,\n",
    "        'content': chunk.page_content,\n",
    "        # For HASH -- must convert embeddings to bytes\n",
    "        'text_embedding': array_to_buffer(embeddings[i], dtype='float32')\n",
    "    } for i, chunk in enumerate(chunks)\n",
    "]\n",
    "\n",
    "# RedisVL handles batching automatically\n",
    "keys = index.load(data, id_field=\"chunk_id\")"
   ]
  },
  {
   "cell_type": "code",
   "execution_count": 13,
   "metadata": {},
   "outputs": [
    {
     "data": {
      "text/plain": [
       "'*=>[KNN 3 @text_embedding $vector AS vector_distance] RETURN 3 chunk_id content vector_distance SORTBY vector_distance ASC DIALECT 2 LIMIT 0 3'"
      ]
     },
     "execution_count": 13,
     "metadata": {},
     "output_type": "execute_result"
    }
   ],
   "source": [
    "from redisvl.query import VectorQuery\n",
    "\n",
    "query = \"what is soil mechanics?\"\n",
    "\n",
    "query_embedding = hf.embed(query)\n",
    "\n",
    "vector_query = VectorQuery(\n",
    "    vector=query_embedding,\n",
    "    vector_field_name=\"text_embedding\",\n",
    "    num_results=3,\n",
    "    return_fields=[\"chunk_id\", \"content\"],\n",
    "    return_score=True\n",
    ")\n",
    "\n",
    "# show the raw redis query\n",
    "str(vector_query)"
   ]
  },
  {
   "cell_type": "code",
   "execution_count": 14,
   "metadata": {},
   "outputs": [
    {
     "data": {
      "text/html": [
       "<div>\n",
       "<style scoped>\n",
       "    .dataframe tbody tr th:only-of-type {\n",
       "        vertical-align: middle;\n",
       "    }\n",
       "\n",
       "    .dataframe tbody tr th {\n",
       "        vertical-align: top;\n",
       "    }\n",
       "\n",
       "    .dataframe thead th {\n",
       "        text-align: right;\n",
       "    }\n",
       "</style>\n",
       "<table border=\"1\" class=\"dataframe\">\n",
       "  <thead>\n",
       "    <tr style=\"text-align: right;\">\n",
       "      <th></th>\n",
       "      <th>id</th>\n",
       "      <th>vector_distance</th>\n",
       "      <th>chunk_id</th>\n",
       "      <th>content</th>\n",
       "    </tr>\n",
       "  </thead>\n",
       "  <tbody>\n",
       "    <tr>\n",
       "      <th>0</th>\n",
       "      <td>chunk:1</td>\n",
       "      <td>0.284770131111</td>\n",
       "      <td>1</td>\n",
       "      <td>• To the civil engineers, soil is any un-cemen...</td>\n",
       "    </tr>\n",
       "    <tr>\n",
       "      <th>1</th>\n",
       "      <td>chunk:2</td>\n",
       "      <td>0.390098035336</td>\n",
       "      <td>2</td>\n",
       "      <td>• Soil mechanics equips engineers with scienti...</td>\n",
       "    </tr>\n",
       "    <tr>\n",
       "      <th>2</th>\n",
       "      <td>chunk:3</td>\n",
       "      <td>0.467613518238</td>\n",
       "      <td>3</td>\n",
       "      <td>2. Earthen Dams\\n• Dam construction provide wa...</td>\n",
       "    </tr>\n",
       "  </tbody>\n",
       "</table>\n",
       "</div>"
      ],
      "text/plain": [
       "        id vector_distance chunk_id  \\\n",
       "0  chunk:1  0.284770131111        1   \n",
       "1  chunk:2  0.390098035336        2   \n",
       "2  chunk:3  0.467613518238        3   \n",
       "\n",
       "                                             content  \n",
       "0  • To the civil engineers, soil is any un-cemen...  \n",
       "1  • Soil mechanics equips engineers with scienti...  \n",
       "2  2. Earthen Dams\\n• Dam construction provide wa...  "
      ]
     },
     "execution_count": 14,
     "metadata": {},
     "output_type": "execute_result"
    }
   ],
   "source": [
    "# execute the query with RedisVL\n",
    "result=index.query(vector_query)\n",
    "\n",
    "# view the results\n",
    "pd.DataFrame(result)"
   ]
  },
  {
   "cell_type": "code",
   "execution_count": 15,
   "metadata": {},
   "outputs": [
    {
     "data": {
      "text/plain": [
       "[{'id': 'chunk:1',\n",
       "  'vector_distance': '0.284770131111',\n",
       "  'chunk_id': '1',\n",
       "  'content': '• To the civil engineers, soil is any un-cemented or \\nweakly cemented accumulation of solid grain \\nparticles, the void space between the particles \\ncontaining water and/or air.\\n\\uf0d8grains(mineral grains, rock fragments etc)\\n\\uf0d8Void space(water and air)\\n\\uf0d8The void spaces are changed by changes in field \\ncondition.\\nFig: Soil grain structure\\n\\uf0d8Engineers assess soil properties, such as its \\nbearing \\ncapacity, \\ncompaction \\ncharacteristics, \\npermeability, \\nand \\nsettlement \\npotential, \\nto \\ndesign \\nand \\nconstruct structures like buildings, roads, \\nbridges, and dams that are safe and stable \\non the soil beneath them.\\n\\n• Soil consists of a multiphase aggregation of solid \\nparticles, water, and air. \\n• This fundamental composition gives rise to unique \\nengineering properties.\\n• The \\ndescription \\nof \\nits \\nmechanical \\nbehaviour(strength, permeability, seepage etc.) \\nrequires some of the most classic principles of \\nengineering mechanics.\\n• Soil Mechanics is a discipline of civil engineering \\ninvolving \\nthe \\nstudy \\nof \\nsoil \\n(identification, \\nbehaviour and properties) and application as an \\nengineering material.\\n\\n• The scientific study of soil mechanics was first \\nstarted by Karl Terzaghi and hence he is known as \\nfather of soil mechanics.\\n• Soil Mechanics is the application of laws of \\nhydraulics and mechanics to engineering problem \\ndealing with soil particles.\\n• The fundamental principles of soil mechanics is \\ndivided into two parts:-\\n\\uf0d8A description of soil properties.\\n\\uf0d8The application of these properties to solution of \\nsoil engineering problems related to seepage, \\ncompaction, consolidation, bearing capacity etc.\\n\\n\\uf071Soil Behaviour is Complex\\n\\uf0d8Foundation soil has to be accepted as it is at the site\\n\\uf0d8Soil is not coherent material but particulate material\\n\\uf0d8Anisotropic\\n\\uf0d8Non-Homogeneous\\n\\uf0d8Non-Linear\\n\\uf0d8Stress history dependant\\n\\uf071Complexity gives rise to importance of\\n\\uf0d8Theory\\n\\uf0d8Lab Tests\\n\\uf0d8Field Tests\\n\\uf0d8Empirical Relations\\n\\uf0d8Computer applications\\n\\uf0d8Experience, Judgement, FOS\\nSoil Mechanics Review'},\n",
       " {'id': 'chunk:2',\n",
       "  'vector_distance': '0.390098035336',\n",
       "  'chunk_id': '2',\n",
       "  'content': '• Soil mechanics equips engineers with scientific tools to \\nunderstand behaviour of soil i.e. response of soils to \\nloads.\\n• A good understanding of soil behaviour is necessary to \\nanalyse and design support system for roads, bridges, \\nbuildings, reservoirs, water distribution system, hydro \\nelectric power stations, nuclear plants etc.\\n• The stability and life of these structures depend on \\nstability, strength and deformation of soils.\\n• If soil fails the structure founded on or within it will fail \\nregardless of how well these system are designed.\\n• Thus successful civil engineering projects are heavily \\ndependant on understanding of soil behaviour.\\nSoil Mechanics Review\\n\\nSOIL PROBLEMS IN CIVIL ENGINEERING\\nTo a civil Engineer soil is a material that can be:\\nbuilt on: foundations to buildings, bridges. \\nbuilt in: tunnels, cross drainage structure, basements. \\nbuilt with: roads, runways, embankments, dams. \\nsupported: retaining walls \\n\\uf0d8A civil engineer has to deal with soil in diverse roles. An engineer while constructing \\nvarious structures must face a number of soil related problems.\\n\\uf0d8The stability of various construction is affected by engineering properties and \\ncharacteristics of soil. \\n\\uf0d8It is necessary to study behavior of the soil and its interactions with the structure to \\nensure its stability. \\n\\nImportance of Soil Mechanics\\n1. Foundations\\n• All foundations for any structure that a civil \\nengineer constructs are bound to rest on the \\nsoil. \\n• The bigger the building or structure, the \\nbigger its foundation \\n• Consequently the more important it is for a \\ncivil engineer to take into consideration the \\nsoil mechanics of the site. \\n\\n• Hard soil with sufficient strength allows an engineer \\nto use shallow foundations, and the weak soil will \\nneed deep foundations to provide robust support for \\nthe structure being constructed.\\n• The choice of foundation is dependent at the depth \\nat which suitable stratum is found.\\nShallow Foundation\\nDeep Foundation'},\n",
       " {'id': 'chunk:3',\n",
       "  'vector_distance': '0.467613518238',\n",
       "  'chunk_id': '3',\n",
       "  'content': '2. Earthen Dams\\n• Dam construction provide water for domestic use \\nall year round, support irrigation and also used for \\nhydroelectric power generation.\\n• A proper design is necessary to ensure that they can \\nwithstand the pressure from water and other \\nelements in order to serve their purpose for a long \\ntime without any incidents. \\n• Understanding soil mechanics will ensure that any \\ncivil engineer carrying out such a project takes into \\nconsideration soil properties such as its density, \\npermeability, \\nparticle \\nsize \\ndistribution, \\nconsolidation and compaction characteristics, and \\nshear strength parameter under to come up with a \\nsolid structure. \\n\\n3. Embankments and Excavations\\n• Embankment refers to piling and excavation refers to \\nremoval of huge masses of soil.\\n• Embankments are usually constructed to raise the level \\nof a road, railway or land above ground level or flooding \\nlevel. \\n• Excavation is carried when it is required to construct \\nfoundation, construct basement, construct roads, \\nconstruct canals, lay drainage pipes, construct trench to \\nstudy soil profile, construct borrow pit and to extract \\nresources like oil, coal etc.\\n• Being aware and able to factor things such as slope \\nstability, compaction of soil as well as aspects such as \\neffects of soil seepage, design of support system like \\nbracing system, sheet pile etc. all contribute to stability \\nof embankment and excavation slopes.\\n\\nEmbankment\\nExcavation\\nExcavation for trench\\n\\n4. Retaining structure and Underground structures\\n\\uf0d8Retaining Structure\\n• The role of retaining structure is to retain the soil and \\nprevent it from spreading laterally.\\n• They are commonly used to accommodate changes in \\ngrade, provide increase in right-of-way and buttress the \\ntoe of slopes.\\n• The various types of retaining walls constructed are \\nGravity retaining walls, Cantilever retaining walls, Gabion \\nretaining walls etc.\\n•  The retaining walls, whether made of compacted soil or \\nconcrete, should also be designed accordingly having \\ntaken into consideration the soil mechanics that will be at \\nplay depending on the given surroundings soil type.'}]"
      ]
     },
     "execution_count": 15,
     "metadata": {},
     "output_type": "execute_result"
    }
   ],
   "source": [
    "result"
   ]
  },
  {
   "cell_type": "code",
   "execution_count": 16,
   "metadata": {},
   "outputs": [
    {
     "data": {
      "text/html": [
       "<div>\n",
       "<style scoped>\n",
       "    .dataframe tbody tr th:only-of-type {\n",
       "        vertical-align: middle;\n",
       "    }\n",
       "\n",
       "    .dataframe tbody tr th {\n",
       "        vertical-align: top;\n",
       "    }\n",
       "\n",
       "    .dataframe thead th {\n",
       "        text-align: right;\n",
       "    }\n",
       "</style>\n",
       "<table border=\"1\" class=\"dataframe\">\n",
       "  <thead>\n",
       "    <tr style=\"text-align: right;\">\n",
       "      <th></th>\n",
       "      <th>id</th>\n",
       "      <th>vector_distance</th>\n",
       "      <th>content</th>\n",
       "    </tr>\n",
       "  </thead>\n",
       "  <tbody>\n",
       "    <tr>\n",
       "      <th>0</th>\n",
       "      <td>chunk:1</td>\n",
       "      <td>0.284770131111</td>\n",
       "      <td>• To the civil engineers, soil is any un-cemen...</td>\n",
       "    </tr>\n",
       "    <tr>\n",
       "      <th>1</th>\n",
       "      <td>chunk:2</td>\n",
       "      <td>0.390098035336</td>\n",
       "      <td>• Soil mechanics equips engineers with scienti...</td>\n",
       "    </tr>\n",
       "    <tr>\n",
       "      <th>2</th>\n",
       "      <td>chunk:3</td>\n",
       "      <td>0.467613518238</td>\n",
       "      <td>2. Earthen Dams\\n• Dam construction provide wa...</td>\n",
       "    </tr>\n",
       "  </tbody>\n",
       "</table>\n",
       "</div>"
      ],
      "text/plain": [
       "        id vector_distance                                            content\n",
       "0  chunk:1  0.284770131111  • To the civil engineers, soil is any un-cemen...\n",
       "1  chunk:2  0.390098035336  • Soil mechanics equips engineers with scienti...\n",
       "2  chunk:3  0.467613518238  2. Earthen Dams\\n• Dam construction provide wa..."
      ]
     },
     "execution_count": 16,
     "metadata": {},
     "output_type": "execute_result"
    }
   ],
   "source": [
    "def retrieve_documents(query: str) -> list:\n",
    "    # Create embedding for the query\n",
    "    query_embedding = hf.embed(query)\n",
    "    \n",
    "    # Create vector query\n",
    "    vector_query = VectorQuery(\n",
    "        vector=query_embedding,\n",
    "        vector_field_name=\"text_embedding\",\n",
    "        num_results=3,\n",
    "        return_fields=[\"content\"],\n",
    "        return_score=True\n",
    "    )\n",
    "    \n",
    "    # Execute query\n",
    "    results = index.query(vector_query)\n",
    "    return results\n",
    "    \n",
    "results = retrieve_documents(query)\n",
    "\n",
    "context = \"\\n\".join([result[\"content\"] for result in results])\n",
    "df = pd.DataFrame(results)\n",
    "df.head()"
   ]
  },
  {
   "cell_type": "code",
   "execution_count": 17,
   "metadata": {},
   "outputs": [],
   "source": [
    "import os\n",
    "from chatbot import ChatBot\n",
    "from dotenv import load_dotenv\n",
    "\n",
    "load_dotenv()  # Load environment variables from .env file\n",
    "model = ChatBot(api_token=os.getenv('HUGGINGFACE_API_KEY'))"
   ]
  },
  {
   "cell_type": "code",
   "execution_count": 5,
   "metadata": {},
   "outputs": [
    {
     "data": {
      "text/plain": [
       "'Hello! How can I assist you today? Feel free to ask me anything or let me know if you need help with a specific topic.'"
      ]
     },
     "execution_count": 5,
     "metadata": {},
     "output_type": "execute_result"
    }
   ],
   "source": [
    "model.query(\"Hello\")"
   ]
  },
  {
   "cell_type": "code",
   "execution_count": 24,
   "metadata": {},
   "outputs": [
    {
     "name": "stdout",
     "output_type": "stream",
     "text": [
      "[{'role': 'system', 'content': 'You are a helpful AI assistant that provides clear and concise information based on the given context and chat history.'}, {'role': 'user', 'content': 'Context: '}, {'role': 'user', 'content': 'Hello'}, {'role': 'bot', 'content': 'Hi there! How can I help you today?'}, {'role': 'user', 'content': 'What is soil mechanics?'}]\n"
     ]
    },
    {
     "data": {
      "text/plain": [
       "{'role': 'bot',\n",
       " 'content': \"Soil mechanics is a branch of engineering that deals with the behavior of soil under various conditions, particularly in relation to construction and civil engineering projects. It involves the study of the physical properties of soil, such as its strength, compressibility, and permeability, and how these properties affect the soil's behavior under loads, water, and other environmental factors. Soil mechanics is crucial for designing foundations, earth structures, and for understanding slope stability, among other applications.\"}"
      ]
     },
     "execution_count": 24,
     "metadata": {},
     "output_type": "execute_result"
    }
   ],
   "source": [
    "chat_history = [\n",
    "    {\"role\": \"user\", \"content\": \"Hello\"},\n",
    "    {\"role\": \"bot\", \"content\": \"Hi there! How can I help you today?\"}\n",
    "]\n",
    "query = \"What is soil mechanics?\"\n",
    "context = \"\\n\".join([result[\"content\"] for result in results])\n",
    "\n",
    "def retrieve_documents(query: str) -> list:\n",
    "    query_embedding = hf.embed(query)\n",
    "    \n",
    "    vector_query = VectorQuery(\n",
    "        vector=query_embedding,\n",
    "        vector_field_name=\"text_embedding\",\n",
    "        num_results=3,\n",
    "        return_fields=[\"content\"],\n",
    "        return_score=True\n",
    "    )\n",
    "    \n",
    "    # Execute query\n",
    "    results = index.query(vector_query)\n",
    "    return results\n",
    "    \n",
    "results = retrieve_documents(query)\n",
    "\n",
    "def generate_response(chat_history, query):\n",
    "    results = retrieve_documents(query)\n",
    "    context = \"\\n\".join([result[\"content\"] for result in results])\n",
    "    chat_history.append({\"role\": \"user\", \"content\": query})\n",
    "    response = model.generate_response(context, chat_history)\n",
    "    return {\"role\": \"bot\", \"content\": response}\n",
    "\n",
    "response = generate_response(chat_history, query)\n",
    "response"
   ]
  },
  {
   "cell_type": "code",
   "execution_count": 19,
   "metadata": {},
   "outputs": [
    {
     "data": {
      "text/plain": [
       "'• To the civil engineers, soil is any un-cemented or \\nweakly cemented accumulation of solid grain \\nparticles, the void space between the particles \\ncontaining water and/or air.\\n\\uf0d8grains(mineral grains, rock fragments etc)\\n\\uf0d8Void space(water and air)\\n\\uf0d8The void spaces are changed by changes in field \\ncondition.\\nFig: Soil grain structure\\n\\uf0d8Engineers assess soil properties, such as its \\nbearing \\ncapacity, \\ncompaction \\ncharacteristics, \\npermeability, \\nand \\nsettlement \\npotential, \\nto \\ndesign \\nand \\nconstruct structures like buildings, roads, \\nbridges, and dams that are safe and stable \\non the soil beneath them.\\n\\n• Soil consists of a multiphase aggregation of solid \\nparticles, water, and air. \\n• This fundamental composition gives rise to unique \\nengineering properties.\\n• The \\ndescription \\nof \\nits \\nmechanical \\nbehaviour(strength, permeability, seepage etc.) \\nrequires some of the most classic principles of \\nengineering mechanics.\\n• Soil Mechanics is a discipline of civil engineering \\ninvolving \\nthe \\nstudy \\nof \\nsoil \\n(identification, \\nbehaviour and properties) and application as an \\nengineering material.\\n\\n• The scientific study of soil mechanics was first \\nstarted by Karl Terzaghi and hence he is known as \\nfather of soil mechanics.\\n• Soil Mechanics is the application of laws of \\nhydraulics and mechanics to engineering problem \\ndealing with soil particles.\\n• The fundamental principles of soil mechanics is \\ndivided into two parts:-\\n\\uf0d8A description of soil properties.\\n\\uf0d8The application of these properties to solution of \\nsoil engineering problems related to seepage, \\ncompaction, consolidation, bearing capacity etc.\\n\\n\\uf071Soil Behaviour is Complex\\n\\uf0d8Foundation soil has to be accepted as it is at the site\\n\\uf0d8Soil is not coherent material but particulate material\\n\\uf0d8Anisotropic\\n\\uf0d8Non-Homogeneous\\n\\uf0d8Non-Linear\\n\\uf0d8Stress history dependant\\n\\uf071Complexity gives rise to importance of\\n\\uf0d8Theory\\n\\uf0d8Lab Tests\\n\\uf0d8Field Tests\\n\\uf0d8Empirical Relations\\n\\uf0d8Computer applications\\n\\uf0d8Experience, Judgement, FOS\\nSoil Mechanics Review\\n\\n• Soil mechanics equips engineers with scientific tools to \\nunderstand behaviour of soil i.e. response of soils to \\nloads.\\n• A good understanding of soil behaviour is necessary to \\nanalyse and design support system for roads, bridges, \\nbuildings, reservoirs, water distribution system, hydro \\nelectric power stations, nuclear plants etc.\\n• The stability and life of these structures depend on \\nstability, strength and deformation of soils.\\n• If soil fails the structure founded on or within it will fail \\nregardless of how well these system are designed.\\n• Thus successful civil engineering projects are heavily \\ndependant on understanding of soil behaviour.\\nSoil Mechanics Review\\n\\nSOIL PROBLEMS IN CIVIL ENGINEERING\\nTo a civil Engineer soil is a material that can be:\\nbuilt on: foundations to buildings, bridges. \\nbuilt in: tunnels, cross drainage structure, basements. \\nbuilt with: roads, runways, embankments, dams. \\nsupported: retaining walls \\n\\uf0d8A civil engineer has to deal with soil in diverse roles. An engineer while constructing \\nvarious structures must face a number of soil related problems.\\n\\uf0d8The stability of various construction is affected by engineering properties and \\ncharacteristics of soil. \\n\\uf0d8It is necessary to study behavior of the soil and its interactions with the structure to \\nensure its stability. \\n\\nImportance of Soil Mechanics\\n1. Foundations\\n• All foundations for any structure that a civil \\nengineer constructs are bound to rest on the \\nsoil. \\n• The bigger the building or structure, the \\nbigger its foundation \\n• Consequently the more important it is for a \\ncivil engineer to take into consideration the \\nsoil mechanics of the site. \\n\\n• Hard soil with sufficient strength allows an engineer \\nto use shallow foundations, and the weak soil will \\nneed deep foundations to provide robust support for \\nthe structure being constructed.\\n• The choice of foundation is dependent at the depth \\nat which suitable stratum is found.\\nShallow Foundation\\nDeep Foundation\\n\\n2. Earthen Dams\\n• Dam construction provide water for domestic use \\nall year round, support irrigation and also used for \\nhydroelectric power generation.\\n• A proper design is necessary to ensure that they can \\nwithstand the pressure from water and other \\nelements in order to serve their purpose for a long \\ntime without any incidents. \\n• Understanding soil mechanics will ensure that any \\ncivil engineer carrying out such a project takes into \\nconsideration soil properties such as its density, \\npermeability, \\nparticle \\nsize \\ndistribution, \\nconsolidation and compaction characteristics, and \\nshear strength parameter under to come up with a \\nsolid structure. \\n\\n3. Embankments and Excavations\\n• Embankment refers to piling and excavation refers to \\nremoval of huge masses of soil.\\n• Embankments are usually constructed to raise the level \\nof a road, railway or land above ground level or flooding \\nlevel. \\n• Excavation is carried when it is required to construct \\nfoundation, construct basement, construct roads, \\nconstruct canals, lay drainage pipes, construct trench to \\nstudy soil profile, construct borrow pit and to extract \\nresources like oil, coal etc.\\n• Being aware and able to factor things such as slope \\nstability, compaction of soil as well as aspects such as \\neffects of soil seepage, design of support system like \\nbracing system, sheet pile etc. all contribute to stability \\nof embankment and excavation slopes.\\n\\nEmbankment\\nExcavation\\nExcavation for trench\\n\\n4. Retaining structure and Underground structures\\n\\uf0d8Retaining Structure\\n• The role of retaining structure is to retain the soil and \\nprevent it from spreading laterally.\\n• They are commonly used to accommodate changes in \\ngrade, provide increase in right-of-way and buttress the \\ntoe of slopes.\\n• The various types of retaining walls constructed are \\nGravity retaining walls, Cantilever retaining walls, Gabion \\nretaining walls etc.\\n•  The retaining walls, whether made of compacted soil or \\nconcrete, should also be designed accordingly having \\ntaken into consideration the soil mechanics that will be at \\nplay depending on the given surroundings soil type.'"
      ]
     },
     "execution_count": 19,
     "metadata": {},
     "output_type": "execute_result"
    }
   ],
   "source": [
    "# Join the content from the search results\n",
    "\"\\n\\n\".join([doc['content'] for doc in result[0:3]])"
   ]
  },
  {
   "cell_type": "code",
   "execution_count": 20,
   "metadata": {},
   "outputs": [
    {
     "data": {
      "text/plain": [
       "<redisvl.index.index.AsyncSearchIndex at 0x22c40cc3bb0>"
      ]
     },
     "execution_count": 20,
     "metadata": {},
     "output_type": "execute_result"
    }
   ],
   "source": [
    "from redis.asyncio import Redis as AsyncRedis\n",
    "from redisvl.index import AsyncSearchIndex\n",
    "REDIS_URL = \"redis://localhost:6379/0\"\n",
    "client = AsyncRedis.from_url(REDIS_URL)\n",
    "async_index = AsyncSearchIndex.from_dict(schema)\n",
    "await async_index.set_client(client)"
   ]
  },
  {
   "cell_type": "code",
   "execution_count": 21,
   "metadata": {},
   "outputs": [],
   "source": [
    "from chatbot import ChatBot"
   ]
  },
  {
   "cell_type": "code",
   "execution_count": 22,
   "metadata": {},
   "outputs": [],
   "source": [
    "import os\n",
    "from dotenv import load_dotenv\n",
    "from huggingface_hub import InferenceClient\n",
    "\n",
    "load_dotenv()  # Load environment variables\n",
    "model = ChatBot(api_token=os.getenv('HUGGINGFACE_API_KEY'))\n",
    "\n",
    "async def answer_question(index: AsyncSearchIndex, query: str):\n",
    "    \"\"\"Answer the user's question\"\"\"\n",
    "\n",
    "    SYSTEM_PROMPT = \"\"\"You are a helpful financial analyst assistant that has access\n",
    "    to public financial 10k documents in order to answer users questions about company\n",
    "    performance, ethics, characteristics, and core information.\n",
    "    \"\"\"\n",
    "\n",
    "    query_vector = hf.embed(query)\n",
    "    # Fetch context from Redis using vector search\n",
    "    context = await retrieve_context(index, query_vector)\n",
    "    # Generate contextualized prompt and feed to OpenAI\n",
    "    response = await model.query(promptify(query, context))\n",
    "    # Response provided by LLM\n",
    "    return response.choices[0].message.content\n",
    "\n",
    "\n",
    "async def retrieve_context(async_index: AsyncSearchIndex, query_vector) -> str:\n",
    "    \"\"\"Fetch the relevant context from Redis using vector search\"\"\"\n",
    "    results = await async_index.query(\n",
    "        VectorQuery(\n",
    "            vector=query_vector,\n",
    "            vector_field_name=\"text_embedding\",\n",
    "            return_fields=[\"content\"],\n",
    "            num_results=3\n",
    "        )\n",
    "    )\n",
    "    content = \"\\n\".join([result[\"content\"] for result in results])\n",
    "    return content\n",
    "\n",
    "\n",
    "def promptify(query: str, context: str) -> str:\n",
    "    return f'''Use the provided context below derived from public financial\n",
    "    documents to answer the user's question. If you can't answer the user's\n",
    "    question, based on the context; do not guess. If there is no context at all,\n",
    "    respond with \"I don't know\".\n",
    "\n",
    "    User question:\n",
    "\n",
    "    {query}\n",
    "\n",
    "    Helpful context:\n",
    "\n",
    "    {context}\n",
    "\n",
    "    Answer:\n",
    "    '''"
   ]
  },
  {
   "cell_type": "code",
   "execution_count": 24,
   "metadata": {},
   "outputs": [],
   "source": [
    "import huggingface_hub\n",
    "from typing import List, Dict\n",
    "from huggingface_hub import InferenceClient\n",
    "class ChatBot:\n",
    "    def __init__(self, api_token: str):\n",
    "        self.client = InferenceClient(api_key=api_token)\n",
    "        self.model = \"Qwen/Qwen2.5-72B-Instruct\"\n",
    "\n",
    "    def generate_response(self, context: str, chat_history: List[Dict[str, str]]) -> str:\n",
    "        \"\"\"\n",
    "        Generate a response based on the provided context and chat history.\n",
    "        This method constructs a message sequence including a system message, \n",
    "        the given context, and the chat history, then uses an AI model to \n",
    "        generate a response.\n",
    "        Args:\n",
    "            context (str): The current context or query from the user.\n",
    "            chat_history (List[Dict[str, str]]): A list of dictionaries containing \n",
    "                                                 the chat history with keys \"role\" \n",
    "                                                 and \"content\".\n",
    "        Returns:\n",
    "            str: The generated response from the AI model.\n",
    "        \"\"\"\n",
    "        \n",
    "        \n",
    "        system_msg = \"You are a helpful AI assistant that provides clear and concise information based on the given context and chat history.\"\n",
    "        \n",
    "        formatted_history = []\n",
    "        for msg in chat_history:\n",
    "            formatted_history.append({\"role\": msg[\"role\"], \"content\": msg[\"content\"]})\n",
    "    \n",
    "        messages = [\n",
    "            {\"role\": \"system\", \"content\": system_msg},\n",
    "            {\"role\": \"user\", \"content\": f\"Context: {context}\"},\n",
    "        ]\n",
    "        messages.extend(formatted_history)\n",
    "        print(messages)\n",
    "        response = self.client.chat.completions.create(\n",
    "            model=self.model,\n",
    "            messages=messages,\n",
    "            temperature=0.7,\n",
    "            max_tokens=1024,\n",
    "            top_p=0.9\n",
    "        )\n",
    "        \n",
    "        return response.choices[0].message.content\n",
    "    \n",
    "    def query(self, query:str):\n",
    "        messages = [\n",
    "            { \"role\": \"user\", \"content\": query }\n",
    "        ]\n",
    "\n",
    "        completion = client.chat.completions.create(\n",
    "            model=self.model, \n",
    "            messages=messages, \n",
    "            temperature=0.5,\n",
    "            max_tokens=2048,\n",
    "            top_p=0.7\n",
    "        )\n",
    "\n",
    "        return completion.choices[0].message.content"
   ]
  },
  {
   "cell_type": "code",
   "execution_count": 25,
   "metadata": {},
   "outputs": [
    {
     "ename": "NameError",
     "evalue": "name 'client' is not defined",
     "output_type": "error",
     "traceback": [
      "\u001b[1;31m---------------------------------------------------------------------------\u001b[0m",
      "\u001b[1;31mNameError\u001b[0m                                 Traceback (most recent call last)",
      "Cell \u001b[1;32mIn[25], line 3\u001b[0m\n\u001b[0;32m      1\u001b[0m \u001b[38;5;28;01mimport\u001b[39;00m \u001b[38;5;21;01masyncio\u001b[39;00m\n\u001b[1;32m----> 3\u001b[0m result \u001b[38;5;241m=\u001b[39m \u001b[38;5;28;01mawait\u001b[39;00m answer_question(async_index, \u001b[38;5;124m\"\u001b[39m\u001b[38;5;124mwhat is soil mechanics?\u001b[39m\u001b[38;5;124m\"\u001b[39m)\n\u001b[0;32m      4\u001b[0m \u001b[38;5;28mprint\u001b[39m(result)\n",
      "Cell \u001b[1;32mIn[22], line 20\u001b[0m, in \u001b[0;36manswer_question\u001b[1;34m(index, query)\u001b[0m\n\u001b[0;32m     18\u001b[0m context \u001b[38;5;241m=\u001b[39m \u001b[38;5;28;01mawait\u001b[39;00m retrieve_context(index, query_vector)\n\u001b[0;32m     19\u001b[0m \u001b[38;5;66;03m# Generate contextualized prompt and feed to OpenAI\u001b[39;00m\n\u001b[1;32m---> 20\u001b[0m response \u001b[38;5;241m=\u001b[39m \u001b[38;5;28;01mawait\u001b[39;00m \u001b[43mmodel\u001b[49m\u001b[38;5;241;43m.\u001b[39;49m\u001b[43mquery\u001b[49m\u001b[43m(\u001b[49m\u001b[43mpromptify\u001b[49m\u001b[43m(\u001b[49m\u001b[43mquery\u001b[49m\u001b[43m,\u001b[49m\u001b[43m \u001b[49m\u001b[43mcontext\u001b[49m\u001b[43m)\u001b[49m\u001b[43m)\u001b[49m\n\u001b[0;32m     21\u001b[0m \u001b[38;5;66;03m# Response provided by LLM\u001b[39;00m\n\u001b[0;32m     22\u001b[0m \u001b[38;5;28;01mreturn\u001b[39;00m response\u001b[38;5;241m.\u001b[39mchoices[\u001b[38;5;241m0\u001b[39m]\u001b[38;5;241m.\u001b[39mmessage\u001b[38;5;241m.\u001b[39mcontent\n",
      "File \u001b[1;32mf:\\Projects\\Codefest2024\\chatbot.py:52\u001b[0m, in \u001b[0;36mChatBot.query\u001b[1;34m(self, query)\u001b[0m\n\u001b[0;32m     47\u001b[0m \u001b[38;5;28;01mdef\u001b[39;00m \u001b[38;5;21mquery\u001b[39m(\u001b[38;5;28mself\u001b[39m, query:\u001b[38;5;28mstr\u001b[39m):\n\u001b[0;32m     48\u001b[0m     messages \u001b[38;5;241m=\u001b[39m [\n\u001b[0;32m     49\u001b[0m         { \u001b[38;5;124m\"\u001b[39m\u001b[38;5;124mrole\u001b[39m\u001b[38;5;124m\"\u001b[39m: \u001b[38;5;124m\"\u001b[39m\u001b[38;5;124muser\u001b[39m\u001b[38;5;124m\"\u001b[39m, \u001b[38;5;124m\"\u001b[39m\u001b[38;5;124mcontent\u001b[39m\u001b[38;5;124m\"\u001b[39m: query }\n\u001b[0;32m     50\u001b[0m     ]\n\u001b[1;32m---> 52\u001b[0m     completion \u001b[38;5;241m=\u001b[39m \u001b[43mclient\u001b[49m\u001b[38;5;241m.\u001b[39mchat\u001b[38;5;241m.\u001b[39mcompletions\u001b[38;5;241m.\u001b[39mcreate(\n\u001b[0;32m     53\u001b[0m         model\u001b[38;5;241m=\u001b[39m\u001b[38;5;28mself\u001b[39m\u001b[38;5;241m.\u001b[39mmodel, \n\u001b[0;32m     54\u001b[0m         messages\u001b[38;5;241m=\u001b[39mmessages, \n\u001b[0;32m     55\u001b[0m         temperature\u001b[38;5;241m=\u001b[39m\u001b[38;5;241m0.5\u001b[39m,\n\u001b[0;32m     56\u001b[0m         max_tokens\u001b[38;5;241m=\u001b[39m\u001b[38;5;241m2048\u001b[39m,\n\u001b[0;32m     57\u001b[0m         top_p\u001b[38;5;241m=\u001b[39m\u001b[38;5;241m0.7\u001b[39m\n\u001b[0;32m     58\u001b[0m     )\n\u001b[0;32m     60\u001b[0m     \u001b[38;5;28;01mreturn\u001b[39;00m completion\u001b[38;5;241m.\u001b[39mchoices[\u001b[38;5;241m0\u001b[39m]\u001b[38;5;241m.\u001b[39mmessage\u001b[38;5;241m.\u001b[39mcontent\n",
      "\u001b[1;31mNameError\u001b[0m: name 'client' is not defined"
     ]
    }
   ],
   "source": [
    "import asyncio\n",
    "\n",
    "result = await answer_question(async_index, \"what is soil mechanics?\")\n",
    "print(result)"
   ]
  },
  {
   "cell_type": "code",
   "execution_count": 25,
   "metadata": {},
   "outputs": [
    {
     "data": {
      "text/plain": [
       "<coroutine object answer_question at 0x000001FD38209540>"
      ]
     },
     "execution_count": 25,
     "metadata": {},
     "output_type": "execute_result"
    }
   ],
   "source": [
    "result."
   ]
  },
  {
   "cell_type": "code",
   "execution_count": null,
   "metadata": {},
   "outputs": [],
   "source": []
  }
 ],
 "metadata": {
  "kernelspec": {
   "display_name": "torchdl",
   "language": "python",
   "name": "python3"
  },
  "language_info": {
   "codemirror_mode": {
    "name": "ipython",
    "version": 3
   },
   "file_extension": ".py",
   "mimetype": "text/x-python",
   "name": "python",
   "nbconvert_exporter": "python",
   "pygments_lexer": "ipython3",
   "version": "3.10.14"
  }
 },
 "nbformat": 4,
 "nbformat_minor": 2
}
